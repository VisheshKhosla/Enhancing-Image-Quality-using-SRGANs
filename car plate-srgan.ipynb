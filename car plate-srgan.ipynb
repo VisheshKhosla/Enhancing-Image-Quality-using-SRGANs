{
 "cells": [
  {
   "cell_type": "code",
   "execution_count": 2,
   "metadata": {
    "colab": {},
    "colab_type": "code",
    "id": "ycRjhI25UC-P"
   },
   "outputs": [],
   "source": [
    "import matplotlib.pyplot as plt"
   ]
  },
  {
   "cell_type": "code",
   "execution_count": 3,
   "metadata": {
    "colab": {},
    "colab_type": "code",
    "id": "MzopHrMvUC-Z"
   },
   "outputs": [],
   "source": [
    "import numpy as np\n",
    "import cv2\n",
    "\n",
    "# Match contours to license plate or character template\n",
    "def find_contours(dimensions, img):\n",
    "\n",
    "    # Find all contours in the image\n",
    "    cntrs, _ = cv2.findContours(img.copy(), cv2.RETR_TREE, cv2.CHAIN_APPROX_SIMPLE)\n",
    "    \n",
    "    # Retrieve potential dimensions\n",
    "    lower_width = dimensions[0]\n",
    "    upper_width = dimensions[1]\n",
    "    lower_height = dimensions[2]\n",
    "    upper_height = dimensions[3]\n",
    "    \n",
    "    # Check largest 5 or 15 contours for license plate or character respectively\n",
    "    cntrs = sorted(cntrs, key=cv2.contourArea, reverse=True)[:15]\n",
    "    \n",
    "    # Read the binary image\n",
    "    ii = cv2.imread('contour.jpg')\n",
    "\n",
    "    x_cntr_list = []\n",
    "    target_contours = []\n",
    "    img_res = []\n",
    "    \n",
    "    # Read all contours detected\n",
    "    for cntr in cntrs :\n",
    "        #detects contour in binary image and returns the coordinates of rectangle enclosing it\n",
    "        intX, intY, intWidth, intHeight = cv2.boundingRect(cntr)\n",
    "        \n",
    "        #checking the dimensions of the contour to filter out the characters by contour's size\n",
    "        if intWidth > lower_width and intWidth < upper_width and intHeight > lower_height and intHeight < upper_height :\n",
    "            \n",
    "            # stores the x coordinate of the character's contour, to used later for indexing the contours\n",
    "            x_cntr_list.append(intX)\n",
    "            char_copy = np.zeros((44,24))\n",
    "            \n",
    "            #extracting each character using the enclosing rectangle's coordinates.\n",
    "            char = img[intY:intY+intHeight, intX:intX+intWidth]\n",
    "            char = cv2.resize(char, (20, 40))\n",
    "            \n",
    "            # Draw rectangle around contour\n",
    "            cv2.rectangle(ii, (intX,intY), (intWidth+intX, intY+intHeight), (50,21,200), 2)\n",
    "            \n",
    "            # Display the uptated binary image with new contour\n",
    "            plt.imshow(ii, cmap='gray')\n",
    "            \n",
    "            # Make result formatted for classification: invert colors\n",
    "            char = cv2.subtract(255, char)\n",
    "            \n",
    "            # Resize the image to 24x44 with black border\n",
    "            char_copy[2:42, 2:22] = char\n",
    "            char_copy[0:2, :] = 0\n",
    "            char_copy[:, 0:2] = 0\n",
    "            char_copy[42:44, :] = 0\n",
    "            char_copy[:, 22:24] = 0\n",
    "            \n",
    "            # List that stores the character's binary image (unsorted)\n",
    "            img_res.append(char_copy) \n",
    "            \n",
    "    # arbitrary function that stores sorted list of character indeces\n",
    "    indices = sorted(range(len(x_cntr_list)), key=lambda k: x_cntr_list[k])\n",
    "    img_res_copy = []\n",
    "    \n",
    "    for idx in indices:\n",
    "        # stores character images according to their index\n",
    "        img_res_copy.append(img_res[idx])\n",
    "        \n",
    "    img_res = np.array(img_res_copy)\n",
    "   \n",
    "    return img_res"
   ]
  },
  {
   "cell_type": "code",
   "execution_count": 4,
   "metadata": {
    "colab": {},
    "colab_type": "code",
    "id": "h23diSmEUC-e"
   },
   "outputs": [],
   "source": [
    "# Find characters in the resulting images and Preprocess license plate image\n",
    "def segment_characters(image):\n",
    "    # Resizing\n",
    "    img_lp = cv2.resize(image, (333, 75))\n",
    "    \n",
    "    # Apply gray scale\n",
    "    img_gray_lp = cv2.cvtColor(img_lp, cv2.COLOR_BGR2GRAY)\n",
    "    \n",
    "    # Convert to binary image\n",
    "    _, img_binary_lp = cv2.threshold(img_gray_lp, 200, 255, cv2.THRESH_BINARY+cv2.THRESH_OTSU)\n",
    "    \n",
    "    # Erode unwanted pixels\n",
    "    img_binary_lp = cv2.erode(img_binary_lp, (3,3))\n",
    "    \n",
    "    # Dilate unwanted pixels\n",
    "    img_binary_lp = cv2.dilate(img_binary_lp, (3,3))\n",
    "    \n",
    "    LP_WIDTH = img_binary_lp.shape[0]\n",
    "    LP_HEIGHT = img_binary_lp.shape[1]\n",
    "    \n",
    "    # Make borders white\n",
    "    img_binary_lp[0:3,:] = 255\n",
    "    img_binary_lp[:,0:3] = 255\n",
    "    img_binary_lp[72:75,:] = 255\n",
    "    img_binary_lp[:,330:333] = 255\n",
    "    \n",
    "    # Estimations of character contours sizes of cropped license plates\n",
    "    dimensions = [(LP_WIDTH/6) + 12.5, (LP_WIDTH/2) + 7.5, (LP_HEIGHT/10) - 15, 2 * LP_HEIGHT/3]\n",
    "    \n",
    "    # Visual display of binary image\n",
    "    plt.imshow(img_binary_lp, cmap='gray')\n",
    "    plt.show()\n",
    "    \n",
    "    # Create a binary image for next steps\n",
    "    cv2.imwrite('contour.jpg',img_binary_lp)\n",
    "\n",
    "    # Get contours within cropped license plate\n",
    "    char_list = find_contours(dimensions, img_binary_lp)\n",
    "\n",
    "    return char_list"
   ]
  },
  {
   "cell_type": "code",
   "execution_count": 36,
   "metadata": {
    "colab": {
     "base_uri": "https://localhost:8080/",
     "height": 237
    },
    "colab_type": "code",
    "id": "OGhFmSnYUC-j",
    "outputId": "fabb6134-d314-439b-fb85-3967f315fd1c"
   },
   "outputs": [
    {
     "data": {
      "image/png": "[encoded data removed]",
      "text/plain": [
       "<Figure size 432x288 with 1 Axes>"
      ]
     },
     "metadata": {
      "needs_background": "light"
     },
     "output_type": "display_data"
    },
    {
     "data": {
      "image/png": "[encoded data removed]",
      "text/plain": [
       "<Figure size 432x288 with 1 Axes>"
      ]
     },
     "metadata": {
      "needs_background": "light"
     },
     "output_type": "display_data"
    }
   ],
   "source": [
    "# img=cv2.resize(cv2.imread('AR02U3382.png'),(256,256))\n",
    "img = cv2.GaussianBlur(cv2.resize(cv2.imread('AR02U3382.png'),(256,256)),(5,5),0.8)\n",
    "# cv2.imshow(\"img\",img)\n",
    "# cv2.waitKey(0)\n",
    "# cv2.destroyAllWindows()\n",
    "cv2.imwrite(\"super_res2.png\",img)\n",
    "char = segment_characters(img)"
   ]
  },
  {
   "cell_type": "code",
   "execution_count": 25,
   "metadata": {
    "colab": {
     "base_uri": "https://localhost:8080/",
     "height": 83
    },
    "colab_type": "code",
    "id": "rZoiyrDaUC-p",
    "outputId": "12c01433-ba9b-45fc-8663-ddf2f3a3cc22"
   },
   "outputs": [
    {
     "data": {
      "image/png": "[encoded data removed]",
      "text/plain": [
       "<Figure size 432x288 with 5 Axes>"
      ]
     },
     "metadata": {
      "needs_background": "light"
     },
     "output_type": "display_data"
    }
   ],
   "source": [
    "for i in range(len(char)):\n",
    "    plt.subplot(1, 10, i+1)\n",
    "    plt.imshow(char[i], cmap='gray')\n",
    "    plt.axis('off')"
   ]
  },
  {
   "cell_type": "code",
   "execution_count": 7,
   "metadata": {
    "colab": {},
    "colab_type": "code",
    "id": "cnH_x_PXUC_A"
   },
   "outputs": [
    {
     "ename": "AttributeError",
     "evalue": "module 'tensorflow' has no attribute 'enable_eager_execution'",
     "output_type": "error",
     "traceback": [
      "\u001b[1;31m---------------------------------------------------------------------------\u001b[0m",
      "\u001b[1;31mAttributeError\u001b[0m                            Traceback (most recent call last)",
      "\u001b[1;32m<ipython-input-7-2f19147a4fbd>\u001b[0m in \u001b[0;36m<module>\u001b[1;34m\u001b[0m\n\u001b[0;32m      1\u001b[0m \u001b[1;32mimport\u001b[0m \u001b[0mtensorflow\u001b[0m \u001b[1;32mas\u001b[0m \u001b[0mtf\u001b[0m\u001b[1;33m\u001b[0m\u001b[1;33m\u001b[0m\u001b[0m\n\u001b[1;32m----> 2\u001b[1;33m \u001b[0mtf\u001b[0m\u001b[1;33m.\u001b[0m\u001b[0menable_eager_execution\u001b[0m\u001b[1;33m(\u001b[0m\u001b[1;33m)\u001b[0m\u001b[1;33m\u001b[0m\u001b[1;33m\u001b[0m\u001b[0m\n\u001b[0m",
      "\u001b[1;31mAttributeError\u001b[0m: module 'tensorflow' has no attribute 'enable_eager_execution'"
     ]
    }
   ],
   "source": [
    "import tensorflow as tf\n",
    "tf.enable_eager_execution()"
   ]
  },
  {
   "cell_type": "code",
   "execution_count": null,
   "metadata": {},
   "outputs": [],
   "source": [
    "# import os\n",
    "# path='data/train'\n",
    "# ch_list=path\n",
    "# for ch in os.listdir(ch_list):\n",
    "# #     print((os.path.join(ch_list,ch)))\n",
    "# #     print(os.path.join(ch_list,ch))\n",
    "# #     print(os.listdir(ch_list))\n",
    "\n",
    "#     for img in os.listdir(os.path.join(ch_list,ch)):\n",
    "#         img_lr= cv2.GaussianBlur(cv2.imread(os.path.join(os.path.join(ch_list,ch),img)),(5,5),0)\n",
    "#         new_path=os.path.join('data/train_low',ch)\n",
    "#         cv2.imwrite('result.jpg', img_lr)\n",
    "# print(.)\n",
    "# # path='data/validation'\n",
    "# # img_list= os.listdir(path)\n",
    "# # for img in img_list:\n",
    "# #     img_lr= cv2.GaussianBlur(cv2.imread(os.path.join(path,img)),(5,5),0)\n",
    "# #     cv2.imwrite('data/validation_low/'+img, img_lr)"
   ]
  },
  {
   "cell_type": "code",
   "execution_count": 8,
   "metadata": {
    "colab": {
     "base_uri": "https://localhost:8080/",
     "height": 51
    },
    "colab_type": "code",
    "id": "BhrsmfX9UC_p",
    "outputId": "0bd4c93b-dc04-4ca4-877b-9f084a03b550"
   },
   "outputs": [
    {
     "name": "stdout",
     "output_type": "stream",
     "text": [
      "Found 864 images belonging to 36 classes.\n",
      "Found 216 images belonging to 36 classes.\n"
     ]
    }
   ],
   "source": [
    "from tensorflow.keras.preprocessing.image import ImageDataGenerator\n",
    "train_datagen = ImageDataGenerator(rescale=1./255, width_shift_range=0.1, height_shift_range=0.1)\n",
    "\n",
    "# Load training data\n",
    "train_generator = train_datagen.flow_from_directory('data/train', target_size=(28,28), batch_size=1, class_mode='categorical')\n",
    "\n",
    "# Load validation data\n",
    "validation_generator = train_datagen.flow_from_directory('data/validation', target_size=(28,28), batch_size=1, class_mode='categorical')"
   ]
  },
  {
   "cell_type": "code",
   "execution_count": 11,
   "metadata": {
    "colab": {},
    "colab_type": "code",
    "id": "jy9Ges8McSGl"
   },
   "outputs": [],
   "source": [
    "from tensorflow.keras.models import Sequential\n",
    "from tensorflow.keras.layers import Dense, Flatten, MaxPooling2D, Dropout, Conv2D\n",
    "from tensorflow.keras import optimizers"
   ]
  },
  {
   "cell_type": "code",
   "execution_count": 12,
   "metadata": {
    "colab": {},
    "colab_type": "code",
    "id": "8IjCdBYrp4EK"
   },
   "outputs": [],
   "source": [
    "# CNN model\n",
    "model = Sequential()\n",
    "model.add(Conv2D(32, (5,5), input_shape=(28, 28, 3), activation='relu', padding='same'))\n",
    "model.add(MaxPooling2D(pool_size=(2, 2)))\n",
    "model.add(Dropout(0.4))\n",
    "model.add(Flatten())\n",
    "model.add(Dense(128, activation='relu'))\n",
    "model.add(Dense(36, activation='softmax'))\n",
    "model.compile(loss='categorical_crossentropy', optimizer=optimizers.Adam(lr=0.00001), metrics=['accuracy'])"
   ]
  },
  {
   "cell_type": "code",
   "execution_count": 13,
   "metadata": {
    "colab": {
     "base_uri": "https://localhost:8080/",
     "height": 1000
    },
    "colab_type": "code",
    "id": "KPAtDd_Jp4BP",
    "outputId": "fbdd1ad4-32fd-40b7-eb13-61ed1db14e47",
    "scrolled": true
   },
   "outputs": [
    {
     "name": "stderr",
     "output_type": "stream",
     "text": [
      "C:\\Users\\Dell\\Anaconda3\\lib\\site-packages\\tensorflow\\python\\keras\\engine\\training.py:1844: UserWarning: `Model.fit_generator` is deprecated and will be removed in a future version. Please use `Model.fit`, which supports generators.\n",
      "  warnings.warn('`Model.fit_generator` is deprecated and '\n"
     ]
    },
    {
     "name": "stdout",
     "output_type": "stream",
     "text": [
      "Epoch 1/30\n",
      "864/864 [==============================] - 6s 7ms/step - loss: 3.5716 - accuracy: 0.0291 - val_loss: 3.4728 - val_accuracy: 0.0648\n",
      "Epoch 2/30\n",
      "864/864 [==============================] - 6s 7ms/step - loss: 3.4279 - accuracy: 0.0784 - val_loss: 3.2866 - val_accuracy: 0.2361\n",
      "Epoch 3/30\n",
      "864/864 [==============================] - 6s 7ms/step - loss: 3.2549 - accuracy: 0.1578 - val_loss: 3.0103 - val_accuracy: 0.4074\n",
      "Epoch 4/30\n",
      "864/864 [==============================] - 6s 7ms/step - loss: 2.9716 - accuracy: 0.2695 - val_loss: 2.6081 - val_accuracy: 0.5000\n",
      "Epoch 5/30\n",
      "864/864 [==============================] - 6s 7ms/step - loss: 2.5462 - accuracy: 0.4258 - val_loss: 2.2094 - val_accuracy: 0.5787\n",
      "Epoch 6/30\n",
      "864/864 [==============================] - 6s 7ms/step - loss: 2.1021 - accuracy: 0.5004 - val_loss: 1.8090 - val_accuracy: 0.7083\n",
      "Epoch 7/30\n",
      "864/864 [==============================] - 5s 6ms/step - loss: 1.7234 - accuracy: 0.6432 - val_loss: 1.5303 - val_accuracy: 0.7130\n",
      "Epoch 8/30\n",
      "864/864 [==============================] - 5s 6ms/step - loss: 1.5182 - accuracy: 0.6137 - val_loss: 1.2998 - val_accuracy: 0.7685\n",
      "Epoch 9/30\n",
      "864/864 [==============================] - 5s 6ms/step - loss: 1.3567 - accuracy: 0.6365 - val_loss: 1.0672 - val_accuracy: 0.8009\n",
      "Epoch 10/30\n",
      "864/864 [==============================] - 5s 6ms/step - loss: 1.1813 - accuracy: 0.6527 - val_loss: 0.9859 - val_accuracy: 0.8009\n",
      "Epoch 11/30\n",
      "864/864 [==============================] - 5s 6ms/step - loss: 1.1142 - accuracy: 0.6966 - val_loss: 0.9282 - val_accuracy: 0.8333\n",
      "Epoch 12/30\n",
      "864/864 [==============================] - 5s 6ms/step - loss: 0.9539 - accuracy: 0.7455 - val_loss: 0.8818 - val_accuracy: 0.8056\n",
      "Epoch 13/30\n",
      "864/864 [==============================] - 5s 6ms/step - loss: 0.9091 - accuracy: 0.7324 - val_loss: 0.7700 - val_accuracy: 0.8241\n",
      "Epoch 14/30\n",
      "864/864 [==============================] - 6s 7ms/step - loss: 0.7662 - accuracy: 0.7876 - val_loss: 0.6672 - val_accuracy: 0.8611\n",
      "Epoch 15/30\n",
      "864/864 [==============================] - 7s 8ms/step - loss: 0.7511 - accuracy: 0.7742 - val_loss: 0.6793 - val_accuracy: 0.8565\n",
      "Epoch 16/30\n",
      "864/864 [==============================] - 6s 7ms/step - loss: 0.6384 - accuracy: 0.8275 - val_loss: 0.5583 - val_accuracy: 0.8889\n",
      "Epoch 17/30\n",
      "864/864 [==============================] - 6s 7ms/step - loss: 0.6857 - accuracy: 0.8031 - val_loss: 0.4962 - val_accuracy: 0.9074\n",
      "Epoch 18/30\n",
      "864/864 [==============================] - 6s 6ms/step - loss: 0.6404 - accuracy: 0.8163 - val_loss: 0.5956 - val_accuracy: 0.8565\n",
      "Epoch 19/30\n",
      "864/864 [==============================] - 6s 7ms/step - loss: 0.5987 - accuracy: 0.8142 - val_loss: 0.5036 - val_accuracy: 0.8843\n",
      "Epoch 20/30\n",
      "864/864 [==============================] - 6s 7ms/step - loss: 0.5657 - accuracy: 0.8227 - val_loss: 0.5414 - val_accuracy: 0.8704\n",
      "Epoch 21/30\n",
      "864/864 [==============================] - 7s 8ms/step - loss: 0.5638 - accuracy: 0.8424 - val_loss: 0.4731 - val_accuracy: 0.8889\n",
      "Epoch 22/30\n",
      "864/864 [==============================] - 7s 8ms/step - loss: 0.5172 - accuracy: 0.8581 - val_loss: 0.4544 - val_accuracy: 0.9028\n",
      "Epoch 23/30\n",
      "864/864 [==============================] - 7s 8ms/step - loss: 0.4251 - accuracy: 0.8750 - val_loss: 0.3307 - val_accuracy: 0.9444\n",
      "Epoch 24/30\n",
      "864/864 [==============================] - 6s 7ms/step - loss: 0.4641 - accuracy: 0.8724 - val_loss: 0.3491 - val_accuracy: 0.9352\n",
      "Epoch 25/30\n",
      "864/864 [==============================] - 6s 7ms/step - loss: 0.4569 - accuracy: 0.8623 - val_loss: 0.3960 - val_accuracy: 0.8935\n",
      "Epoch 26/30\n",
      "864/864 [==============================] - 6s 7ms/step - loss: 0.5302 - accuracy: 0.8418 - val_loss: 0.3500 - val_accuracy: 0.8981\n",
      "Epoch 27/30\n",
      "864/864 [==============================] - 5s 6ms/step - loss: 0.4847 - accuracy: 0.8466 - val_loss: 0.4411 - val_accuracy: 0.8889\n",
      "Epoch 28/30\n",
      "864/864 [==============================] - 6s 7ms/step - loss: 0.3984 - accuracy: 0.8713 - val_loss: 0.3398 - val_accuracy: 0.9167\n",
      "Epoch 29/30\n",
      "864/864 [==============================] - 7s 8ms/step - loss: 0.4159 - accuracy: 0.8716 - val_loss: 0.3261 - val_accuracy: 0.9352\n",
      "Epoch 30/30\n",
      "864/864 [==============================] - 7s 8ms/step - loss: 0.3611 - accuracy: 0.8828 - val_loss: 0.3115 - val_accuracy: 0.9213\n"
     ]
    },
    {
     "data": {
      "text/plain": [
       "<tensorflow.python.keras.callbacks.History at 0x1a53860a1d0>"
      ]
     },
     "execution_count": 13,
     "metadata": {},
     "output_type": "execute_result"
    }
   ],
   "source": [
    "# training the model\n",
    "batch_size = 1\n",
    "model.fit_generator(train_generator, validation_data = validation_generator, epochs = 30)"
   ]
  },
  {
   "cell_type": "code",
   "execution_count": 33,
   "metadata": {
    "colab": {
     "base_uri": "https://localhost:8080/",
     "height": 34
    },
    "colab_type": "code",
    "id": "3PICNwtZUDAD",
    "outputId": "483eda61-5d3a-4600-ab47-e1cd1bb6058e"
   },
   "outputs": [
    {
     "name": "stdout",
     "output_type": "stream",
     "text": [
      "Predicted character/numbers =  V\n"
     ]
    }
   ],
   "source": [
    "def fix_dimension(img): \n",
    "  new_img = np.zeros((28,28,3))\n",
    "  for i in range(3):\n",
    "    new_img[:,:,i] = img\n",
    "  return new_img\n",
    "\n",
    "# Predicting the character/number from contours using trained model\n",
    "def show_results():\n",
    "    dic = {}\n",
    "    characters = '0123456789ABCDEFGHIJKLMNOPQRSTUVWXYZ'\n",
    "    for i,c in enumerate(characters):\n",
    "        dic[i] = c\n",
    "    output = []\n",
    "    for i,ch in enumerate(char): # iterating over the characters\n",
    "        img_ = cv2.resize(ch, (28,28))\n",
    "        img = fix_dimension(img_)\n",
    "        img = img.reshape(1,28,28,3) # preparing image for the model\n",
    "        y_ = model.predict_classes(img)[0] # predicting the class\n",
    "        character = dic[y_] # get the predicted character\n",
    "        output.append(character) # storing the result in a list\n",
    "        \n",
    "    plate_number = ''.join(output)\n",
    "    \n",
    "    return plate_number\n",
    "\n",
    "print(\"Predicted character/numbers = \", show_results())"
   ]
  },
  {
   "cell_type": "code",
   "execution_count": 15,
   "metadata": {
    "colab": {
     "base_uri": "https://localhost:8080/",
     "height": 373
    },
    "colab_type": "code",
    "id": "urZpH4YFUDAI",
    "outputId": "6688d92e-0c11-48c7-baa3-1c44b36873aa",
    "scrolled": true
   },
   "outputs": [
    {
     "data": {
      "image/png": "[encoded data removed]",
      "text/plain": [
       "<Figure size 720x432 with 2 Axes>"
      ]
     },
     "metadata": {
      "needs_background": "light"
     },
     "output_type": "display_data"
    },
    {
     "data": {
      "image/png": "[encoded data removed]",
      "text/plain": [
       "<Figure size 720x432 with 3 Axes>"
      ]
     },
     "metadata": {
      "needs_background": "light"
     },
     "output_type": "display_data"
    }
   ],
   "source": [
    "plt.figure(figsize=(10,6))\n",
    "\n",
    "# First print characters\n",
    "for i,ch in enumerate(char):\n",
    "    if i % 2 == 1:\n",
    "        img = cv2.resize(ch, (28,28))\n",
    "        plt.subplot(3,4,i+1)\n",
    "        plt.imshow(img,cmap='gray')\n",
    "        plt.title(f'predicted: {show_results()[i]}')\n",
    "        plt.axis('off')\n",
    "plt.show()\n",
    "\n",
    "plt.figure(figsize=(10,6))\n",
    "# Print numbers\n",
    "for i,ch in enumerate(char):\n",
    "    if i % 2 == 0:\n",
    "        img = cv2.resize(ch, (28,28))\n",
    "        plt.subplot(3,4,i+1)\n",
    "        plt.imshow(img,cmap='gray')\n",
    "        plt.title(f'predicted: {show_results()[i]}')\n",
    "        plt.axis('off')\n",
    "plt.show()"
   ]
  },
  {
   "cell_type": "code",
   "execution_count": null,
   "metadata": {
    "colab": {},
    "colab_type": "code",
    "id": "uBboEZgAUDAT"
   },
   "outputs": [],
   "source": []
  },
  {
   "cell_type": "code",
   "execution_count": null,
   "metadata": {},
   "outputs": [],
   "source": []
  }
 ],
 "metadata": {
  "accelerator": "GPU",
  "colab": {
   "collapsed_sections": [],
   "name": "ai_powered_license_plate_detector.ipynb",
   "provenance": []
  },
  "kernelspec": {
   "display_name": "Python 3",
   "language": "python",
   "name": "python3"
  },
  "language_info": {
   "codemirror_mode": {
    "name": "ipython",
    "version": 3
   },
   "file_extension": ".py",
   "mimetype": "text/x-python",
   "name": "python",
   "nbconvert_exporter": "python",
   "pygments_lexer": "ipython3",
   "version": "3.7.3"
  }
 },
 "nbformat": 4,
 "nbformat_minor": 1
}
